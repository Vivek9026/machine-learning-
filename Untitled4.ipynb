{
 "cells": [
  {
   "cell_type": "code",
   "execution_count": 1,
   "id": "e43fd450",
   "metadata": {},
   "outputs": [],
   "source": [
    "import numpy as np\n",
    "import pandas as pd\n",
    "import seaborn as sns\n",
    "import matplotlib.pyplot as plt"
   ]
  },
  {
   "cell_type": "code",
   "execution_count": 2,
   "id": "6252b88d",
   "metadata": {},
   "outputs": [],
   "source": [
    "df=pd.read_csv(\"Amazon_Car_Accessories - Amazon_Car_Accessories.csv\")"
   ]
  },
  {
   "cell_type": "code",
   "execution_count": 3,
   "id": "b7faa6fa",
   "metadata": {},
   "outputs": [
    {
     "data": {
      "text/html": [
       "<div>\n",
       "<style scoped>\n",
       "    .dataframe tbody tr th:only-of-type {\n",
       "        vertical-align: middle;\n",
       "    }\n",
       "\n",
       "    .dataframe tbody tr th {\n",
       "        vertical-align: top;\n",
       "    }\n",
       "\n",
       "    .dataframe thead th {\n",
       "        text-align: right;\n",
       "    }\n",
       "</style>\n",
       "<table border=\"1\" class=\"dataframe\">\n",
       "  <thead>\n",
       "    <tr style=\"text-align: right;\">\n",
       "      <th></th>\n",
       "      <th>Title</th>\n",
       "      <th>Price</th>\n",
       "      <th>Number reviews</th>\n",
       "      <th>Real price</th>\n",
       "      <th>Free days</th>\n",
       "      <th>Shipment</th>\n",
       "      <th>Delivery Date</th>\n",
       "      <th>How many time in past month</th>\n",
       "      <th>Stock update</th>\n",
       "    </tr>\n",
       "  </thead>\n",
       "  <tbody>\n",
       "    <tr>\n",
       "      <th>0</th>\n",
       "      <td>Dorman 955-167 Driver Side Power Door Mirror f...</td>\n",
       "      <td>35</td>\n",
       "      <td>101</td>\n",
       "      <td>$1.92</td>\n",
       "      <td>90 days FREE. Terms apply.</td>\n",
       "      <td>Yes</td>\n",
       "      <td>Mon, Jun 19</td>\n",
       "      <td>50+ bought in past week</td>\n",
       "      <td>Only 7 left in stock - order soon.</td>\n",
       "    </tr>\n",
       "    <tr>\n",
       "      <th>1</th>\n",
       "      <td>CURT 51323 Quick Plug Electric Trailer Brake C...</td>\n",
       "      <td>19</td>\n",
       "      <td>386</td>\n",
       "      <td>$1.93</td>\n",
       "      <td>90 days FREE. Terms apply.</td>\n",
       "      <td>Yes</td>\n",
       "      <td>Mon, Jun 19</td>\n",
       "      <td>50+ bought in past week</td>\n",
       "      <td>Only 4 left in stock (more on the way).</td>\n",
       "    </tr>\n",
       "    <tr>\n",
       "      <th>2</th>\n",
       "      <td>HAMPTON PROD Keeper - 48” Carabiner Bungee Cor...</td>\n",
       "      <td>13</td>\n",
       "      <td>1,573</td>\n",
       "      <td>$2.90</td>\n",
       "      <td>90 days FREE. Terms apply.</td>\n",
       "      <td>Yes</td>\n",
       "      <td>Mon, Jun 19</td>\n",
       "      <td>50+ bought in past week</td>\n",
       "      <td>Only 16 left in stock (more on the way).</td>\n",
       "    </tr>\n",
       "    <tr>\n",
       "      <th>3</th>\n",
       "      <td>CR Brophy Machine Works RB34 1\" x 3/4\" Hitch B...</td>\n",
       "      <td>2</td>\n",
       "      <td>9</td>\n",
       "      <td>$2.90</td>\n",
       "      <td>90 days FREE. Terms apply.</td>\n",
       "      <td>Yes</td>\n",
       "      <td>Mon, Jun 19</td>\n",
       "      <td>10% off coupon Details</td>\n",
       "      <td>Only 3 left in stock - order soon.</td>\n",
       "    </tr>\n",
       "    <tr>\n",
       "      <th>4</th>\n",
       "      <td>Ampper Blind Spot Mirror, 2\" Round HD Glass Fr...</td>\n",
       "      <td>8</td>\n",
       "      <td>20,378</td>\n",
       "      <td>$3.14</td>\n",
       "      <td>90 days FREE. Terms apply.</td>\n",
       "      <td>Yes</td>\n",
       "      <td>Mon, Jun 19</td>\n",
       "      <td>50+ bought in past week</td>\n",
       "      <td>Only 2 left in stock - order soon.</td>\n",
       "    </tr>\n",
       "  </tbody>\n",
       "</table>\n",
       "</div>"
      ],
      "text/plain": [
       "                                               Title Price Number reviews  \\\n",
       "0  Dorman 955-167 Driver Side Power Door Mirror f...    35            101   \n",
       "1  CURT 51323 Quick Plug Electric Trailer Brake C...    19            386   \n",
       "2  HAMPTON PROD Keeper - 48” Carabiner Bungee Cor...    13          1,573   \n",
       "3  CR Brophy Machine Works RB34 1\" x 3/4\" Hitch B...     2              9   \n",
       "4  Ampper Blind Spot Mirror, 2\" Round HD Glass Fr...     8         20,378   \n",
       "\n",
       "  Real price                   Free days Shipment Delivery Date  \\\n",
       "0      $1.92  90 days FREE. Terms apply.      Yes   Mon, Jun 19   \n",
       "1      $1.93  90 days FREE. Terms apply.      Yes   Mon, Jun 19   \n",
       "2      $2.90  90 days FREE. Terms apply.      Yes   Mon, Jun 19   \n",
       "3      $2.90  90 days FREE. Terms apply.      Yes   Mon, Jun 19   \n",
       "4      $3.14  90 days FREE. Terms apply.      Yes   Mon, Jun 19   \n",
       "\n",
       "  How many time in past month                              Stock update  \n",
       "0     50+ bought in past week        Only 7 left in stock - order soon.  \n",
       "1     50+ bought in past week   Only 4 left in stock (more on the way).  \n",
       "2     50+ bought in past week  Only 16 left in stock (more on the way).  \n",
       "3      10% off coupon Details        Only 3 left in stock - order soon.  \n",
       "4     50+ bought in past week        Only 2 left in stock - order soon.  "
      ]
     },
     "execution_count": 3,
     "metadata": {},
     "output_type": "execute_result"
    }
   ],
   "source": [
    "df.head()"
   ]
  },
  {
   "cell_type": "code",
   "execution_count": 4,
   "id": "12681470",
   "metadata": {},
   "outputs": [
    {
     "name": "stdout",
     "output_type": "stream",
     "text": [
      "<class 'pandas.core.frame.DataFrame'>\n",
      "RangeIndex: 9573 entries, 0 to 9572\n",
      "Data columns (total 9 columns):\n",
      " #   Column                       Non-Null Count  Dtype \n",
      "---  ------                       --------------  ----- \n",
      " 0   Title                        9573 non-null   object\n",
      " 1   Price                        9573 non-null   object\n",
      " 2   Number reviews               9573 non-null   object\n",
      " 3   Real price                   9573 non-null   object\n",
      " 4   Free days                    9573 non-null   object\n",
      " 5   Shipment                     9573 non-null   object\n",
      " 6   Delivery Date                9573 non-null   object\n",
      " 7   How many time in past month  9573 non-null   object\n",
      " 8   Stock update                 9573 non-null   object\n",
      "dtypes: object(9)\n",
      "memory usage: 673.2+ KB\n"
     ]
    }
   ],
   "source": [
    "#cheak info\n",
    "df.info()"
   ]
  },
  {
   "cell_type": "code",
   "execution_count": 5,
   "id": "6e7aff5e",
   "metadata": {},
   "outputs": [
    {
     "data": {
      "text/plain": [
       "Title                          0\n",
       "Price                          0\n",
       "Number reviews                 0\n",
       "Real price                     0\n",
       "Free days                      0\n",
       "Shipment                       0\n",
       "Delivery Date                  0\n",
       "How many time in past month    0\n",
       "Stock update                   0\n",
       "dtype: int64"
      ]
     },
     "execution_count": 5,
     "metadata": {},
     "output_type": "execute_result"
    }
   ],
   "source": [
    "#null value\n",
    "df.isnull().sum()"
   ]
  },
  {
   "cell_type": "code",
   "execution_count": 6,
   "id": "f61dee28",
   "metadata": {},
   "outputs": [
    {
     "data": {
      "text/plain": [
       "0"
      ]
     },
     "execution_count": 6,
     "metadata": {},
     "output_type": "execute_result"
    }
   ],
   "source": [
    "#cheak duplicates\n",
    "df.duplicated().sum()"
   ]
  },
  {
   "cell_type": "code",
   "execution_count": 7,
   "id": "642125ed",
   "metadata": {},
   "outputs": [
    {
     "data": {
      "text/plain": [
       "(9573, 9)"
      ]
     },
     "execution_count": 7,
     "metadata": {},
     "output_type": "execute_result"
    }
   ],
   "source": [
    "df.shape\n"
   ]
  },
  {
   "cell_type": "code",
   "execution_count": 8,
   "id": "ded24f8c",
   "metadata": {},
   "outputs": [
    {
     "data": {
      "text/plain": [
       "Yes     9476\n",
       "& Up      97\n",
       "Name: Shipment, dtype: int64"
      ]
     },
     "execution_count": 8,
     "metadata": {},
     "output_type": "execute_result"
    }
   ],
   "source": [
    "df['Shipment'].value_counts()"
   ]
  },
  {
   "cell_type": "code",
   "execution_count": 9,
   "id": "d30ce3b9",
   "metadata": {},
   "outputs": [],
   "source": [
    "from sklearn.preprocessing import LabelEncoder\n",
    "la=LabelEncoder()"
   ]
  },
  {
   "cell_type": "code",
   "execution_count": 10,
   "id": "d0843fe5",
   "metadata": {},
   "outputs": [],
   "source": [
    "df['Shipment']=la.fit_transform(df['Shipment'])"
   ]
  },
  {
   "cell_type": "code",
   "execution_count": 11,
   "id": "0c6ced62",
   "metadata": {},
   "outputs": [
    {
     "data": {
      "text/html": [
       "<div>\n",
       "<style scoped>\n",
       "    .dataframe tbody tr th:only-of-type {\n",
       "        vertical-align: middle;\n",
       "    }\n",
       "\n",
       "    .dataframe tbody tr th {\n",
       "        vertical-align: top;\n",
       "    }\n",
       "\n",
       "    .dataframe thead th {\n",
       "        text-align: right;\n",
       "    }\n",
       "</style>\n",
       "<table border=\"1\" class=\"dataframe\">\n",
       "  <thead>\n",
       "    <tr style=\"text-align: right;\">\n",
       "      <th></th>\n",
       "      <th>Title</th>\n",
       "      <th>Price</th>\n",
       "      <th>Number reviews</th>\n",
       "      <th>Real price</th>\n",
       "      <th>Free days</th>\n",
       "      <th>Shipment</th>\n",
       "      <th>Delivery Date</th>\n",
       "      <th>How many time in past month</th>\n",
       "      <th>Stock update</th>\n",
       "    </tr>\n",
       "  </thead>\n",
       "  <tbody>\n",
       "    <tr>\n",
       "      <th>0</th>\n",
       "      <td>Dorman 955-167 Driver Side Power Door Mirror f...</td>\n",
       "      <td>35</td>\n",
       "      <td>101</td>\n",
       "      <td>$1.92</td>\n",
       "      <td>90 days FREE. Terms apply.</td>\n",
       "      <td>1</td>\n",
       "      <td>Mon, Jun 19</td>\n",
       "      <td>50+ bought in past week</td>\n",
       "      <td>Only 7 left in stock - order soon.</td>\n",
       "    </tr>\n",
       "    <tr>\n",
       "      <th>1</th>\n",
       "      <td>CURT 51323 Quick Plug Electric Trailer Brake C...</td>\n",
       "      <td>19</td>\n",
       "      <td>386</td>\n",
       "      <td>$1.93</td>\n",
       "      <td>90 days FREE. Terms apply.</td>\n",
       "      <td>1</td>\n",
       "      <td>Mon, Jun 19</td>\n",
       "      <td>50+ bought in past week</td>\n",
       "      <td>Only 4 left in stock (more on the way).</td>\n",
       "    </tr>\n",
       "    <tr>\n",
       "      <th>2</th>\n",
       "      <td>HAMPTON PROD Keeper - 48” Carabiner Bungee Cor...</td>\n",
       "      <td>13</td>\n",
       "      <td>1,573</td>\n",
       "      <td>$2.90</td>\n",
       "      <td>90 days FREE. Terms apply.</td>\n",
       "      <td>1</td>\n",
       "      <td>Mon, Jun 19</td>\n",
       "      <td>50+ bought in past week</td>\n",
       "      <td>Only 16 left in stock (more on the way).</td>\n",
       "    </tr>\n",
       "    <tr>\n",
       "      <th>3</th>\n",
       "      <td>CR Brophy Machine Works RB34 1\" x 3/4\" Hitch B...</td>\n",
       "      <td>2</td>\n",
       "      <td>9</td>\n",
       "      <td>$2.90</td>\n",
       "      <td>90 days FREE. Terms apply.</td>\n",
       "      <td>1</td>\n",
       "      <td>Mon, Jun 19</td>\n",
       "      <td>10% off coupon Details</td>\n",
       "      <td>Only 3 left in stock - order soon.</td>\n",
       "    </tr>\n",
       "    <tr>\n",
       "      <th>4</th>\n",
       "      <td>Ampper Blind Spot Mirror, 2\" Round HD Glass Fr...</td>\n",
       "      <td>8</td>\n",
       "      <td>20,378</td>\n",
       "      <td>$3.14</td>\n",
       "      <td>90 days FREE. Terms apply.</td>\n",
       "      <td>1</td>\n",
       "      <td>Mon, Jun 19</td>\n",
       "      <td>50+ bought in past week</td>\n",
       "      <td>Only 2 left in stock - order soon.</td>\n",
       "    </tr>\n",
       "  </tbody>\n",
       "</table>\n",
       "</div>"
      ],
      "text/plain": [
       "                                               Title Price Number reviews  \\\n",
       "0  Dorman 955-167 Driver Side Power Door Mirror f...    35            101   \n",
       "1  CURT 51323 Quick Plug Electric Trailer Brake C...    19            386   \n",
       "2  HAMPTON PROD Keeper - 48” Carabiner Bungee Cor...    13          1,573   \n",
       "3  CR Brophy Machine Works RB34 1\" x 3/4\" Hitch B...     2              9   \n",
       "4  Ampper Blind Spot Mirror, 2\" Round HD Glass Fr...     8         20,378   \n",
       "\n",
       "  Real price                   Free days  Shipment Delivery Date  \\\n",
       "0      $1.92  90 days FREE. Terms apply.         1   Mon, Jun 19   \n",
       "1      $1.93  90 days FREE. Terms apply.         1   Mon, Jun 19   \n",
       "2      $2.90  90 days FREE. Terms apply.         1   Mon, Jun 19   \n",
       "3      $2.90  90 days FREE. Terms apply.         1   Mon, Jun 19   \n",
       "4      $3.14  90 days FREE. Terms apply.         1   Mon, Jun 19   \n",
       "\n",
       "  How many time in past month                              Stock update  \n",
       "0     50+ bought in past week        Only 7 left in stock - order soon.  \n",
       "1     50+ bought in past week   Only 4 left in stock (more on the way).  \n",
       "2     50+ bought in past week  Only 16 left in stock (more on the way).  \n",
       "3      10% off coupon Details        Only 3 left in stock - order soon.  \n",
       "4     50+ bought in past week        Only 2 left in stock - order soon.  "
      ]
     },
     "execution_count": 11,
     "metadata": {},
     "output_type": "execute_result"
    }
   ],
   "source": [
    "df.head()"
   ]
  },
  {
   "cell_type": "code",
   "execution_count": 12,
   "id": "73e9c436",
   "metadata": {},
   "outputs": [
    {
     "data": {
      "text/plain": [
       "Text(0.5, 0, 'price')"
      ]
     },
     "execution_count": 12,
     "metadata": {},
     "output_type": "execute_result"
    },
    {
     "data": {
      "image/png": "[encoded data removed]",
      "text/plain": [
       "<Figure size 3000x1000 with 6 Axes>"
      ]
     },
     "metadata": {},
     "output_type": "display_data"
    }
   ],
   "source": [
    "#eda\n",
    "fig= plt.subplots(3,2, figsize=(30,10))\n",
    "\n",
    "plt.subplot(3,2,1)\n",
    "sns.histplot(x= df['Price'], hue=df['Shipment'])\n",
    "plt.xlabel('price')"
   ]
  },
  {
   "cell_type": "code",
   "execution_count": 13,
   "id": "ed1d4d21",
   "metadata": {},
   "outputs": [
    {
     "name": "stderr",
     "output_type": "stream",
     "text": [
      "C:\\Users\\realme\\AppData\\Local\\Temp\\ipykernel_6460\\3448801853.py:1: UserWarning: \n",
      "\n",
      "`distplot` is a deprecated function and will be removed in seaborn v0.14.0.\n",
      "\n",
      "Please adapt your code to use either `displot` (a figure-level function with\n",
      "similar flexibility) or `histplot` (an axes-level function for histograms).\n",
      "\n",
      "For a guide to updating your code to use the new functions, please see\n",
      "https://gist.github.com/mwaskom/de44147ed2974457ad6372750bbe5751\n",
      "\n",
      "  sns.distplot(['Price'])\n"
     ]
    },
    {
     "ename": "ValueError",
     "evalue": "could not convert string to float: 'Price'",
     "output_type": "error",
     "traceback": [
      "\u001b[1;31m---------------------------------------------------------------------------\u001b[0m",
      "\u001b[1;31mValueError\u001b[0m                                Traceback (most recent call last)",
      "Cell \u001b[1;32mIn[13], line 1\u001b[0m\n\u001b[1;32m----> 1\u001b[0m \u001b[43msns\u001b[49m\u001b[38;5;241;43m.\u001b[39;49m\u001b[43mdistplot\u001b[49m\u001b[43m(\u001b[49m\u001b[43m[\u001b[49m\u001b[38;5;124;43m'\u001b[39;49m\u001b[38;5;124;43mPrice\u001b[39;49m\u001b[38;5;124;43m'\u001b[39;49m\u001b[43m]\u001b[49m\u001b[43m)\u001b[49m\n",
      "File \u001b[1;32m~\\anaconda4\\lib\\site-packages\\seaborn\\distributions.py:2458\u001b[0m, in \u001b[0;36mdistplot\u001b[1;34m(a, bins, hist, kde, rug, fit, hist_kws, kde_kws, rug_kws, fit_kws, color, vertical, norm_hist, axlabel, label, ax, x)\u001b[0m\n\u001b[0;32m   2455\u001b[0m     a \u001b[38;5;241m=\u001b[39m x\n\u001b[0;32m   2457\u001b[0m \u001b[38;5;66;03m# Make a a 1-d float array\u001b[39;00m\n\u001b[1;32m-> 2458\u001b[0m a \u001b[38;5;241m=\u001b[39m \u001b[43mnp\u001b[49m\u001b[38;5;241;43m.\u001b[39;49m\u001b[43masarray\u001b[49m\u001b[43m(\u001b[49m\u001b[43ma\u001b[49m\u001b[43m,\u001b[49m\u001b[43m \u001b[49m\u001b[38;5;28;43mfloat\u001b[39;49m\u001b[43m)\u001b[49m\n\u001b[0;32m   2459\u001b[0m \u001b[38;5;28;01mif\u001b[39;00m a\u001b[38;5;241m.\u001b[39mndim \u001b[38;5;241m>\u001b[39m \u001b[38;5;241m1\u001b[39m:\n\u001b[0;32m   2460\u001b[0m     a \u001b[38;5;241m=\u001b[39m a\u001b[38;5;241m.\u001b[39msqueeze()\n",
      "\u001b[1;31mValueError\u001b[0m: could not convert string to float: 'Price'"
     ]
    },
    {
     "data": {
      "image/png": "[encoded data removed]",
      "text/plain": [
       "<Figure size 640x480 with 1 Axes>"
      ]
     },
     "metadata": {},
     "output_type": "display_data"
    }
   ],
   "source": [
    "sns.distplot(['Price'])"
   ]
  },
  {
   "cell_type": "code",
   "execution_count": 15,
   "id": "658f3d57",
   "metadata": {},
   "outputs": [
    {
     "name": "stderr",
     "output_type": "stream",
     "text": [
      "C:\\Users\\realme\\AppData\\Local\\Temp\\ipykernel_6460\\659652581.py:1: FutureWarning: The default value of regex will change from True to False in a future version. In addition, single character regular expressions will *not* be treated as literal strings when regex=True.\n",
      "  df['Real price']=df['Real price'].str.replace('$','')\n"
     ]
    }
   ],
   "source": [
    "df['Real price']=df['Real price'].str.replace('$','')\n"
   ]
  },
  {
   "cell_type": "code",
   "execution_count": 16,
   "id": "06368145",
   "metadata": {
    "scrolled": true
   },
   "outputs": [
    {
     "data": {
      "text/html": [
       "<div>\n",
       "<style scoped>\n",
       "    .dataframe tbody tr th:only-of-type {\n",
       "        vertical-align: middle;\n",
       "    }\n",
       "\n",
       "    .dataframe tbody tr th {\n",
       "        vertical-align: top;\n",
       "    }\n",
       "\n",
       "    .dataframe thead th {\n",
       "        text-align: right;\n",
       "    }\n",
       "</style>\n",
       "<table border=\"1\" class=\"dataframe\">\n",
       "  <thead>\n",
       "    <tr style=\"text-align: right;\">\n",
       "      <th></th>\n",
       "      <th>Title</th>\n",
       "      <th>Price</th>\n",
       "      <th>Number reviews</th>\n",
       "      <th>Real price</th>\n",
       "      <th>Free days</th>\n",
       "      <th>Shipment</th>\n",
       "      <th>Delivery Date</th>\n",
       "      <th>How many time in past month</th>\n",
       "      <th>Stock update</th>\n",
       "    </tr>\n",
       "  </thead>\n",
       "  <tbody>\n",
       "    <tr>\n",
       "      <th>0</th>\n",
       "      <td>Dorman 955-167 Driver Side Power Door Mirror f...</td>\n",
       "      <td>35</td>\n",
       "      <td>101</td>\n",
       "      <td>1.92</td>\n",
       "      <td>90 days FREE. Terms apply.</td>\n",
       "      <td>1</td>\n",
       "      <td>Mon, Jun 19</td>\n",
       "      <td>50+ bought in past week</td>\n",
       "      <td>Only 7 left in stock - order soon.</td>\n",
       "    </tr>\n",
       "    <tr>\n",
       "      <th>1</th>\n",
       "      <td>CURT 51323 Quick Plug Electric Trailer Brake C...</td>\n",
       "      <td>19</td>\n",
       "      <td>386</td>\n",
       "      <td>1.93</td>\n",
       "      <td>90 days FREE. Terms apply.</td>\n",
       "      <td>1</td>\n",
       "      <td>Mon, Jun 19</td>\n",
       "      <td>50+ bought in past week</td>\n",
       "      <td>Only 4 left in stock (more on the way).</td>\n",
       "    </tr>\n",
       "    <tr>\n",
       "      <th>2</th>\n",
       "      <td>HAMPTON PROD Keeper - 48” Carabiner Bungee Cor...</td>\n",
       "      <td>13</td>\n",
       "      <td>1,573</td>\n",
       "      <td>2.90</td>\n",
       "      <td>90 days FREE. Terms apply.</td>\n",
       "      <td>1</td>\n",
       "      <td>Mon, Jun 19</td>\n",
       "      <td>50+ bought in past week</td>\n",
       "      <td>Only 16 left in stock (more on the way).</td>\n",
       "    </tr>\n",
       "    <tr>\n",
       "      <th>3</th>\n",
       "      <td>CR Brophy Machine Works RB34 1\" x 3/4\" Hitch B...</td>\n",
       "      <td>2</td>\n",
       "      <td>9</td>\n",
       "      <td>2.90</td>\n",
       "      <td>90 days FREE. Terms apply.</td>\n",
       "      <td>1</td>\n",
       "      <td>Mon, Jun 19</td>\n",
       "      <td>10% off coupon Details</td>\n",
       "      <td>Only 3 left in stock - order soon.</td>\n",
       "    </tr>\n",
       "    <tr>\n",
       "      <th>4</th>\n",
       "      <td>Ampper Blind Spot Mirror, 2\" Round HD Glass Fr...</td>\n",
       "      <td>8</td>\n",
       "      <td>20,378</td>\n",
       "      <td>3.14</td>\n",
       "      <td>90 days FREE. Terms apply.</td>\n",
       "      <td>1</td>\n",
       "      <td>Mon, Jun 19</td>\n",
       "      <td>50+ bought in past week</td>\n",
       "      <td>Only 2 left in stock - order soon.</td>\n",
       "    </tr>\n",
       "  </tbody>\n",
       "</table>\n",
       "</div>"
      ],
      "text/plain": [
       "                                               Title Price Number reviews  \\\n",
       "0  Dorman 955-167 Driver Side Power Door Mirror f...    35            101   \n",
       "1  CURT 51323 Quick Plug Electric Trailer Brake C...    19            386   \n",
       "2  HAMPTON PROD Keeper - 48” Carabiner Bungee Cor...    13          1,573   \n",
       "3  CR Brophy Machine Works RB34 1\" x 3/4\" Hitch B...     2              9   \n",
       "4  Ampper Blind Spot Mirror, 2\" Round HD Glass Fr...     8         20,378   \n",
       "\n",
       "  Real price                   Free days  Shipment Delivery Date  \\\n",
       "0       1.92  90 days FREE. Terms apply.         1   Mon, Jun 19   \n",
       "1       1.93  90 days FREE. Terms apply.         1   Mon, Jun 19   \n",
       "2       2.90  90 days FREE. Terms apply.         1   Mon, Jun 19   \n",
       "3       2.90  90 days FREE. Terms apply.         1   Mon, Jun 19   \n",
       "4       3.14  90 days FREE. Terms apply.         1   Mon, Jun 19   \n",
       "\n",
       "  How many time in past month                              Stock update  \n",
       "0     50+ bought in past week        Only 7 left in stock - order soon.  \n",
       "1     50+ bought in past week   Only 4 left in stock (more on the way).  \n",
       "2     50+ bought in past week  Only 16 left in stock (more on the way).  \n",
       "3      10% off coupon Details        Only 3 left in stock - order soon.  \n",
       "4     50+ bought in past week        Only 2 left in stock - order soon.  "
      ]
     },
     "execution_count": 16,
     "metadata": {},
     "output_type": "execute_result"
    }
   ],
   "source": [
    "df.head()"
   ]
  },
  {
   "cell_type": "code",
   "execution_count": 17,
   "id": "0c7be088",
   "metadata": {},
   "outputs": [
    {
     "data": {
      "text/plain": [
       "90 days FREE. Terms apply.    7414\n",
       "10% off coupon Details         572\n",
       "5% off coupon Details          505\n",
       "of select items                324\n",
       "$12.00 off coupon Details      216\n",
       "$20.00 off coupon Details      168\n",
       "$30.00 off coupon Details      121\n",
       "$15.00 off coupon Details      120\n",
       "$10.00 off coupon Details       96\n",
       "15% off coupon Details          24\n",
       "Save 10% when you buy            4\n",
       "$50.00                           4\n",
       "$300.00                          1\n",
       "Save                             1\n",
       "when you buy                     1\n",
       "$55.00                           1\n",
       "$12.10 off coupon Details        1\n",
       "Name: Free days, dtype: int64"
      ]
     },
     "execution_count": 17,
     "metadata": {},
     "output_type": "execute_result"
    }
   ],
   "source": [
    "df['Free days'].value_counts()"
   ]
  },
  {
   "cell_type": "code",
   "execution_count": 19,
   "id": "db2b4fef",
   "metadata": {},
   "outputs": [
    {
     "data": {
      "text/plain": [
       "<Axes: xlabel='Shipment', ylabel='count'>"
      ]
     },
     "execution_count": 19,
     "metadata": {},
     "output_type": "execute_result"
    },
    {
     "data": {
      "image/png": "[encoded data removed]",
      "text/plain": [
       "<Figure size 640x480 with 1 Axes>"
      ]
     },
     "metadata": {},
     "output_type": "display_data"
    }
   ],
   "source": [
    "sns.countplot(x='Shipment',data=df)"
   ]
  },
  {
   "cell_type": "code",
   "execution_count": 20,
   "id": "179a12aa",
   "metadata": {},
   "outputs": [
    {
     "data": {
      "text/html": [
       "<div>\n",
       "<style scoped>\n",
       "    .dataframe tbody tr th:only-of-type {\n",
       "        vertical-align: middle;\n",
       "    }\n",
       "\n",
       "    .dataframe tbody tr th {\n",
       "        vertical-align: top;\n",
       "    }\n",
       "\n",
       "    .dataframe thead th {\n",
       "        text-align: right;\n",
       "    }\n",
       "</style>\n",
       "<table border=\"1\" class=\"dataframe\">\n",
       "  <thead>\n",
       "    <tr style=\"text-align: right;\">\n",
       "      <th></th>\n",
       "      <th>Title</th>\n",
       "      <th>Price</th>\n",
       "      <th>Number reviews</th>\n",
       "      <th>Real price</th>\n",
       "      <th>Free days</th>\n",
       "      <th>Shipment</th>\n",
       "      <th>Delivery Date</th>\n",
       "      <th>How many time in past month</th>\n",
       "      <th>Stock update</th>\n",
       "    </tr>\n",
       "  </thead>\n",
       "  <tbody>\n",
       "    <tr>\n",
       "      <th>9568</th>\n",
       "      <td>Warn 74924 (MTO) DRUM_WINCH_RT40</td>\n",
       "      <td>76</td>\n",
       "      <td>11</td>\n",
       "      <td>None</td>\n",
       "      <td>90 days FREE. Terms apply.</td>\n",
       "      <td>1</td>\n",
       "      <td>Mon, Jun 19</td>\n",
       "      <td>10% off coupon Details</td>\n",
       "      <td>Only 17 left in stock (more on the way).</td>\n",
       "    </tr>\n",
       "    <tr>\n",
       "      <th>9569</th>\n",
       "      <td>Rugged Ridge 11580.10 Trailer Hitch, 2 inch; 0...</td>\n",
       "      <td>7</td>\n",
       "      <td>5</td>\n",
       "      <td>None</td>\n",
       "      <td>90 days FREE. Terms apply.</td>\n",
       "      <td>1</td>\n",
       "      <td>Mon, Jun 19</td>\n",
       "      <td>10% off coupon Details</td>\n",
       "      <td>Only 17 left in stock (more on the way).</td>\n",
       "    </tr>\n",
       "    <tr>\n",
       "      <th>9570</th>\n",
       "      <td>Gates 31633 OE Equivalent Fuel Tank Cap</td>\n",
       "      <td>71</td>\n",
       "      <td>5</td>\n",
       "      <td>None</td>\n",
       "      <td>90 days FREE. Terms apply.</td>\n",
       "      <td>1</td>\n",
       "      <td>Mon, Jun 19</td>\n",
       "      <td>10% off coupon Details</td>\n",
       "      <td>Only 17 left in stock (more on the way).</td>\n",
       "    </tr>\n",
       "    <tr>\n",
       "      <th>9571</th>\n",
       "      <td>BIG RED 2.5 Ton (5000 lb) Torin Low Profile Hy...</td>\n",
       "      <td>35</td>\n",
       "      <td>5</td>\n",
       "      <td>None</td>\n",
       "      <td>90 days FREE. Terms apply.</td>\n",
       "      <td>1</td>\n",
       "      <td>Mon, Jun 19</td>\n",
       "      <td>10% off coupon Details</td>\n",
       "      <td>Only 17 left in stock (more on the way).</td>\n",
       "    </tr>\n",
       "    <tr>\n",
       "      <th>9572</th>\n",
       "      <td>BIG RED ATRT2272CR Torin Manual Heavy Duty Han...</td>\n",
       "      <td>26</td>\n",
       "      <td>5</td>\n",
       "      <td>None</td>\n",
       "      <td>90 days FREE. Terms apply.</td>\n",
       "      <td>1</td>\n",
       "      <td>Mon, Jun 19</td>\n",
       "      <td>10% off coupon Details</td>\n",
       "      <td>Only 17 left in stock (more on the way).</td>\n",
       "    </tr>\n",
       "  </tbody>\n",
       "</table>\n",
       "</div>"
      ],
      "text/plain": [
       "                                                  Title Price Number reviews  \\\n",
       "9568                   Warn 74924 (MTO) DRUM_WINCH_RT40    76             11   \n",
       "9569  Rugged Ridge 11580.10 Trailer Hitch, 2 inch; 0...     7              5   \n",
       "9570            Gates 31633 OE Equivalent Fuel Tank Cap    71              5   \n",
       "9571  BIG RED 2.5 Ton (5000 lb) Torin Low Profile Hy...    35              5   \n",
       "9572  BIG RED ATRT2272CR Torin Manual Heavy Duty Han...    26              5   \n",
       "\n",
       "     Real price                   Free days  Shipment Delivery Date  \\\n",
       "9568       None  90 days FREE. Terms apply.         1   Mon, Jun 19   \n",
       "9569       None  90 days FREE. Terms apply.         1   Mon, Jun 19   \n",
       "9570       None  90 days FREE. Terms apply.         1   Mon, Jun 19   \n",
       "9571       None  90 days FREE. Terms apply.         1   Mon, Jun 19   \n",
       "9572       None  90 days FREE. Terms apply.         1   Mon, Jun 19   \n",
       "\n",
       "     How many time in past month                              Stock update  \n",
       "9568      10% off coupon Details  Only 17 left in stock (more on the way).  \n",
       "9569      10% off coupon Details  Only 17 left in stock (more on the way).  \n",
       "9570      10% off coupon Details  Only 17 left in stock (more on the way).  \n",
       "9571      10% off coupon Details  Only 17 left in stock (more on the way).  \n",
       "9572      10% off coupon Details  Only 17 left in stock (more on the way).  "
      ]
     },
     "execution_count": 20,
     "metadata": {},
     "output_type": "execute_result"
    }
   ],
   "source": [
    "df.tail()"
   ]
  },
  {
   "cell_type": "code",
   "execution_count": 21,
   "id": "93c7b16f",
   "metadata": {},
   "outputs": [
    {
     "data": {
      "text/plain": [
       "Title                          0\n",
       "Price                          0\n",
       "Number reviews                 0\n",
       "Real price                     0\n",
       "Free days                      0\n",
       "Shipment                       0\n",
       "Delivery Date                  0\n",
       "How many time in past month    0\n",
       "Stock update                   0\n",
       "dtype: int64"
      ]
     },
     "execution_count": 21,
     "metadata": {},
     "output_type": "execute_result"
    }
   ],
   "source": [
    "df.isnull().sum()"
   ]
  },
  {
   "cell_type": "code",
   "execution_count": null,
   "id": "075b4b65",
   "metadata": {},
   "outputs": [],
   "source": []
  }
 ],
 "metadata": {
  "kernelspec": {
   "display_name": "Python 3 (ipykernel)",
   "language": "python",
   "name": "python3"
  },
  "language_info": {
   "codemirror_mode": {
    "name": "ipython",
    "version": 3
   },
   "file_extension": ".py",
   "mimetype": "text/x-python",
   "name": "python",
   "nbconvert_exporter": "python",
   "pygments_lexer": "ipython3",
   "version": "3.10.9"
  }
 },
 "nbformat": 4,
 "nbformat_minor": 5
}
